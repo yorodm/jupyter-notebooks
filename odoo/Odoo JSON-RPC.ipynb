{
 "cells": [
  {
   "cell_type": "markdown",
   "metadata": {
    "slideshow": {
     "slide_type": "slide"
    }
   },
   "source": [
    "# Odoo y JSON-RPC\n",
    "\n",
    "Este notebook muestra como acceder a **Odoo** utilizando la interfaz **JSON-RPC** utilizando solamente las bibliotecas `json` y `urllib`."
   ]
  },
  {
   "cell_type": "code",
   "execution_count": 1,
   "metadata": {
    "collapsed": true,
    "slideshow": {
     "slide_type": "slide"
    }
   },
   "outputs": [],
   "source": [
    "host = \"192.168.86.131\""
   ]
  },
  {
   "cell_type": "code",
   "execution_count": 2,
   "metadata": {
    "collapsed": true,
    "slideshow": {
     "slide_type": "slide"
    }
   },
   "outputs": [],
   "source": [
    "port = 8069"
   ]
  },
  {
   "cell_type": "code",
   "execution_count": 3,
   "metadata": {
    "collapsed": true,
    "slideshow": {
     "slide_type": "slide"
    }
   },
   "outputs": [],
   "source": [
    "url = \"http://{}:{}/jsonrpc\".format(host,port)"
   ]
  },
  {
   "cell_type": "code",
   "execution_count": 4,
   "metadata": {
    "collapsed": true,
    "slideshow": {
     "slide_type": "slide"
    }
   },
   "outputs": [],
   "source": [
    "db =\"prueba\""
   ]
  },
  {
   "cell_type": "code",
   "execution_count": 5,
   "metadata": {
    "collapsed": true,
    "slideshow": {
     "slide_type": "slide"
    }
   },
   "outputs": [],
   "source": [
    "user = \"admin@odoo3.com\""
   ]
  },
  {
   "cell_type": "code",
   "execution_count": 6,
   "metadata": {
    "collapsed": true,
    "slideshow": {
     "slide_type": "slide"
    }
   },
   "outputs": [],
   "source": [
    "password = \"prueba\""
   ]
  },
  {
   "cell_type": "code",
   "execution_count": 7,
   "metadata": {
    "collapsed": true,
    "slideshow": {
     "slide_type": "slide"
    }
   },
   "outputs": [],
   "source": [
    "import json"
   ]
  },
  {
   "cell_type": "code",
   "execution_count": 8,
   "metadata": {
    "collapsed": true,
    "slideshow": {
     "slide_type": "slide"
    }
   },
   "outputs": [],
   "source": [
    "import random"
   ]
  },
  {
   "cell_type": "code",
   "execution_count": 9,
   "metadata": {
    "collapsed": true,
    "slideshow": {
     "slide_type": "slide"
    }
   },
   "outputs": [],
   "source": [
    "from urllib import request"
   ]
  },
  {
   "cell_type": "code",
   "execution_count": 10,
   "metadata": {
    "collapsed": true,
    "slideshow": {
     "slide_type": "slide"
    }
   },
   "outputs": [],
   "source": [
    "def json_rpc(url, method, params):\n",
    "    data = {\n",
    "        \"jsonrpc\": \"2.0\",\n",
    "        \"method\": method,\n",
    "        \"params\": params,\n",
    "        \"id\": random.randint(0, 1000000000),\n",
    "    }\n",
    "    req = request.Request(url, data=json.dumps(data).encode(), headers={\n",
    "        \"Content-Type\":\"application/json\",\n",
    "    })\n",
    "    reply = json.load(request.urlopen(req))\n",
    "    if reply.get(\"error\"):\n",
    "        raise Exception(reply[\"error\"])\n",
    "    return reply[\"result\"]"
   ]
  },
  {
   "cell_type": "code",
   "execution_count": 11,
   "metadata": {
    "collapsed": true,
    "slideshow": {
     "slide_type": "slide"
    }
   },
   "outputs": [],
   "source": [
    "def call(url, service, method, *args):\n",
    "    return json_rpc(url, \"call\", {\"service\": service, \"method\": method, \"args\": args})"
   ]
  },
  {
   "cell_type": "markdown",
   "metadata": {
    "slideshow": {
     "slide_type": "slide"
    }
   },
   "source": [
    "Tenemos que autenticarnos para acceder al servidor. Una llamada a *login* devuelve el *id* del usuario, que necesitaremos para ejecutar llamadas a los objetos con *execute*"
   ]
  },
  {
   "cell_type": "code",
   "execution_count": 12,
   "metadata": {
    "collapsed": true,
    "slideshow": {
     "slide_type": "slide"
    }
   },
   "outputs": [],
   "source": [
    "uid = call(url, \"common\", \"login\", db, user, password)"
   ]
  },
  {
   "cell_type": "code",
   "execution_count": 13,
   "metadata": {
    "collapsed": true,
    "slideshow": {
     "slide_type": "slide"
    }
   },
   "outputs": [],
   "source": [
    "args = {\n",
    "    'color' : 8,\n",
    "    'memo' : 'This is another note',\n",
    "    'create_uid': uid,\n",
    "}"
   ]
  },
  {
   "cell_type": "code",
   "execution_count": 14,
   "metadata": {
    "collapsed": true,
    "slideshow": {
     "slide_type": "slide"
    }
   },
   "outputs": [],
   "source": [
    "note_id = call(url, \"object\", \"execute\", db, uid, password, 'note.note', 'create', args)"
   ]
  },
  {
   "cell_type": "code",
   "execution_count": 15,
   "metadata": {
    "slideshow": {
     "slide_type": "slide"
    }
   },
   "outputs": [
    {
     "data": {
      "text/plain": [
       "[{'__last_update': '2017-11-09 02:44:34',\n",
       "  'color': 8,\n",
       "  'create_date': '2017-11-09 02:44:34',\n",
       "  'create_uid': [1, 'Administrator'],\n",
       "  'date_done': False,\n",
       "  'display_name': 'This is another note',\n",
       "  'id': 12,\n",
       "  'memo': '<p>This is another note</p>',\n",
       "  'message_channel_ids': [],\n",
       "  'message_follower_ids': [18],\n",
       "  'message_ids': [51, 50],\n",
       "  'message_is_follower': True,\n",
       "  'message_last_post': False,\n",
       "  'message_needaction': False,\n",
       "  'message_needaction_counter': 0,\n",
       "  'message_partner_ids': [3],\n",
       "  'message_unread': False,\n",
       "  'message_unread_counter': 0,\n",
       "  'name': 'This is another note',\n",
       "  'open': True,\n",
       "  'sequence': 0,\n",
       "  'stage_id': [1, 'New'],\n",
       "  'stage_ids': [1],\n",
       "  'tag_ids': [],\n",
       "  'user_id': [1, 'Administrator'],\n",
       "  'write_date': '2017-11-09 02:44:34',\n",
       "  'write_uid': [1, 'Administrator']}]"
      ]
     },
     "execution_count": 15,
     "metadata": {},
     "output_type": "execute_result"
    }
   ],
   "source": [
    "call(url,\"object\",\"execute\",\n",
    "     db, uid, password, \"note.note\",\"search_read\",\n",
    "     [[\"id\",\"=\",note_id]])"
   ]
  }
 ],
 "metadata": {
  "celltoolbar": "Slideshow",
  "kernelspec": {
   "display_name": "Python 3",
   "language": "python",
   "name": "python3"
  },
  "language_info": {
   "codemirror_mode": {
    "name": "ipython",
    "version": 3
   },
   "file_extension": ".py",
   "mimetype": "text/x-python",
   "name": "python",
   "nbconvert_exporter": "python",
   "pygments_lexer": "ipython3",
   "version": "3.6.1"
  }
 },
 "nbformat": 4,
 "nbformat_minor": 2
}
