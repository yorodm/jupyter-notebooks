{
 "cells": [
  {
   "cell_type": "code",
   "execution_count": 1,
   "metadata": {
    "collapsed": true
   },
   "outputs": [],
   "source": [
    "url = \"http://localhost:8069/\""
   ]
  },
  {
   "cell_type": "code",
   "execution_count": 2,
   "metadata": {
    "collapsed": true
   },
   "outputs": [],
   "source": [
    "db = \"sandbox\""
   ]
  },
  {
   "cell_type": "code",
   "execution_count": 3,
   "metadata": {
    "collapsed": true
   },
   "outputs": [],
   "source": [
    "username = \"admin\""
   ]
  },
  {
   "cell_type": "code",
   "execution_count": 4,
   "metadata": {
    "collapsed": true
   },
   "outputs": [],
   "source": [
    "password = \"admin\""
   ]
  },
  {
   "cell_type": "code",
   "execution_count": 5,
   "metadata": {
    "collapsed": true
   },
   "outputs": [],
   "source": [
    "from xmlrpc.client import ServerProxy"
   ]
  },
  {
   "cell_type": "code",
   "execution_count": 6,
   "metadata": {
    "collapsed": true
   },
   "outputs": [],
   "source": [
    "common = ServerProxy(\"{}xmlrpc/2/common\".format(url))"
   ]
  },
  {
   "cell_type": "code",
   "execution_count": 7,
   "metadata": {},
   "outputs": [
    {
     "data": {
      "text/plain": [
       "{'protocol_version': 1,\n",
       " 'server_serie': '8.0',\n",
       " 'server_version': '8.0-20160113',\n",
       " 'server_version_info': [8, 0, 0, 'final', 0]}"
      ]
     },
     "execution_count": 7,
     "metadata": {},
     "output_type": "execute_result"
    }
   ],
   "source": [
    "common.version()"
   ]
  },
  {
   "cell_type": "code",
   "execution_count": 8,
   "metadata": {
    "collapsed": true
   },
   "outputs": [],
   "source": [
    "uid = common.authenticate(db,username,password,{})"
   ]
  },
  {
   "cell_type": "code",
   "execution_count": 9,
   "metadata": {
    "collapsed": true
   },
   "outputs": [],
   "source": [
    "models = ServerProxy('{}xmlrpc/2/object'.format(url))"
   ]
  },
  {
   "cell_type": "markdown",
   "metadata": {},
   "source": [
    "Nota importante\n",
    "=========\n",
    "A partir de aqui estas autenticado como administrador y te comunicas con el servidor utilizando\n",
    "`execute_kw(modelo,metodo,[*args],{**kwargs})`. Los metodos por endpoint son\n",
    "\n",
    "## Para common:\n",
    "- `common.login`\n",
    "- `common.authenticate`\n",
    "- `common.version`\n",
    "- `common.about`\n",
    "\n",
    "## Para model\n",
    "- `model.excecute`\n",
    "- `model.execute_kw` que es lo mismo pero pasa keywords vacias por defecto\n",
    "- `model.exec_workflow` para workflows\n",
    "\n",
    "Existen otros endpoints como `db`, `report`, `security`, etc. Pero en la doc dicen que no son parte de la API publica\n",
    "\n",
    "> El metodo a invocar debe ser publico, si empieza con `_` se lanza un error.\n",
    "> Gracias al embrollo en `openerp.api` que garantiza compatibilidad, todos\n",
    "> los metodos se pueden llamar como si fueran de API vieja ()\n"
   ]
  },
  {
   "cell_type": "code",
   "execution_count": null,
   "metadata": {
    "collapsed": true
   },
   "outputs": [],
   "source": []
  }
 ],
 "metadata": {
  "kernelspec": {
   "display_name": "Python 3",
   "language": "python",
   "name": "python3"
  },
  "language_info": {
   "codemirror_mode": {
    "name": "ipython",
    "version": 3
   },
   "file_extension": ".py",
   "mimetype": "text/x-python",
   "name": "python",
   "nbconvert_exporter": "python",
   "pygments_lexer": "ipython3",
   "version": "3.6.1"
  },
  "widgets": {
   "application/vnd.jupyter.widget-state+json": {
    "state": {},
    "version_major": 1,
    "version_minor": 0
   }
  }
 },
 "nbformat": 4,
 "nbformat_minor": 1
}
